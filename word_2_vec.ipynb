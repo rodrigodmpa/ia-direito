{
 "cells": [
  {
   "cell_type": "code",
   "execution_count": 3,
   "metadata": {},
   "outputs": [],
   "source": [
    "import gensim\n",
    "import os\n",
    "from nltk.stem.snowball import SnowballStemmer\n",
    "stm = SnowballStemmer(\"portuguese\")\n",
    "import warnings\n",
    "warnings.filterwarnings(\"ignore\")"
   ]
  },
  {
   "cell_type": "code",
   "execution_count": 2,
   "metadata": {},
   "outputs": [],
   "source": [
    "class MySentences(object):\n",
    "    def __init__(self, dirname):\n",
    "        self.dirname = dirname\n",
    " \n",
    "    def __iter__(self):\n",
    "        for fname in [x for x in os.listdir(self.dirname) if x[0] != '.']:\n",
    "            for line in open(os.path.join(self.dirname, fname)):\n",
    "                yield eval(line)"
   ]
  },
  {
   "cell_type": "markdown",
   "metadata": {},
   "source": [
    "### Carregando vários arquivos do dirétorio. (exemplo de https://rare-technologies.com/word2vec-tutorial/)"
   ]
  },
  {
   "cell_type": "code",
   "execution_count": 3,
   "metadata": {},
   "outputs": [],
   "source": [
    "articles = MySentences('data/wiki-filtered/')"
   ]
  },
  {
   "cell_type": "markdown",
   "metadata": {},
   "source": [
    "\n",
    "### Treinando o modelo com os artigos da Wikipedia"
   ]
  },
  {
   "cell_type": "code",
   "execution_count": 4,
   "metadata": {},
   "outputs": [],
   "source": [
    "model = gensim.models.Word2Vec(articles, min_count=10, size=100, workers=8)"
   ]
  },
  {
   "cell_type": "markdown",
   "metadata": {},
   "source": [
    "\n",
    "### Salvando o modelo "
   ]
  },
  {
   "cell_type": "code",
   "execution_count": 5,
   "metadata": {},
   "outputs": [],
   "source": [
    "model.save('saved_models/no_steeming_min_count_10')"
   ]
  },
  {
   "cell_type": "markdown",
   "metadata": {},
   "source": [
    "### Carregando um modelo salvo"
   ]
  },
  {
   "cell_type": "code",
   "execution_count": 4,
   "metadata": {},
   "outputs": [],
   "source": [
    "default_model = gensim.models.Word2Vec.load('no_steeming_min_count_10')"
   ]
  },
  {
   "cell_type": "markdown",
   "metadata": {},
   "source": [
    "\n",
    "\n",
    "### Utilizando o modelo para comparações "
   ]
  },
  {
   "cell_type": "code",
   "execution_count": 5,
   "metadata": {},
   "outputs": [
    {
     "data": {
      "text/plain": [
       "0.06754351729151364"
      ]
     },
     "execution_count": 5,
     "metadata": {},
     "output_type": "execute_result"
    }
   ],
   "source": [
    "default_model.wv.similarity('bicicleta','pernil')"
   ]
  },
  {
   "cell_type": "code",
   "execution_count": 6,
   "metadata": {},
   "outputs": [
    {
     "data": {
      "text/plain": [
       "0.5904853143961653"
      ]
     },
     "execution_count": 6,
     "metadata": {},
     "output_type": "execute_result"
    }
   ],
   "source": [
    "default_model.wv.similarity('bicicleta','roda')"
   ]
  },
  {
   "cell_type": "code",
   "execution_count": 7,
   "metadata": {},
   "outputs": [
    {
     "data": {
      "text/plain": [
       "'couve'"
      ]
     },
     "execution_count": 7,
     "metadata": {},
     "output_type": "execute_result"
    }
   ],
   "source": [
    "default_model.wv.most_similar_to_given('alface', ['freio','abobora', 'couve'])"
   ]
  },
  {
   "cell_type": "code",
   "execution_count": 8,
   "metadata": {},
   "outputs": [
    {
     "data": {
      "text/plain": [
       "[('rainha', 0.7521289587020874)]"
      ]
     },
     "execution_count": 8,
     "metadata": {},
     "output_type": "execute_result"
    }
   ],
   "source": [
    "default_model.wv.most_similar(positive=['mulher','rei'], negative=['homem'], topn=1)"
   ]
  },
  {
   "cell_type": "code",
   "execution_count": 9,
   "metadata": {},
   "outputs": [
    {
     "data": {
      "text/plain": [
       "[('cancao', 0.7714563608169556),\n",
       " ('musical', 0.7294701933860779),\n",
       " ('pop', 0.7189350724220276),\n",
       " ('musicalidade', 0.707554280757904),\n",
       " ('balada', 0.6945042610168457),\n",
       " ('melodia', 0.6906666159629822),\n",
       " ('dancante', 0.687556266784668),\n",
       " ('sonoridade', 0.6680060625076294),\n",
       " ('rap', 0.6645941734313965),\n",
       " ('danca', 0.6515709161758423)]"
      ]
     },
     "execution_count": 9,
     "metadata": {},
     "output_type": "execute_result"
    }
   ],
   "source": [
    "default_model.wv.similar_by_word(\"musica\")"
   ]
  },
  {
   "cell_type": "code",
   "execution_count": 10,
   "metadata": {
    "scrolled": true
   },
   "outputs": [
    {
     "data": {
      "text/plain": [
       "0.33174849886601043"
      ]
     },
     "execution_count": 10,
     "metadata": {},
     "output_type": "execute_result"
    }
   ],
   "source": [
    "default_model.wv.distance(\"carro\", \"motocicleta\")"
   ]
  },
  {
   "cell_type": "code",
   "execution_count": 11,
   "metadata": {},
   "outputs": [
    {
     "data": {
      "text/plain": [
       "0.54394870942674"
      ]
     },
     "execution_count": 11,
     "metadata": {},
     "output_type": "execute_result"
    }
   ],
   "source": [
    "default_model.wv.n_similarity([\"guitarra\", \"baixo\"], [\"musica\", \"banda\"])"
   ]
  },
  {
   "cell_type": "code",
   "execution_count": 12,
   "metadata": {
    "scrolled": true
   },
   "outputs": [
    {
     "data": {
      "text/plain": [
       "array([ 0.93531215,  3.4661677 , -0.14393751,  2.6379983 ,  0.2711277 ,\n",
       "        3.8414738 , -1.4280142 ,  0.6983651 , -0.12728149, -1.0867522 ,\n",
       "       -2.0644572 ,  2.5549664 ,  2.811026  ,  1.7974502 , -3.316908  ,\n",
       "        0.5560397 , -2.241984  ,  0.14362644, -1.2987367 ,  0.6806481 ,\n",
       "       -3.5374067 ,  2.0954318 , -1.6183546 , -1.2028434 , -0.41205034,\n",
       "        1.9926883 , -3.048943  ,  3.6973758 ,  0.6577105 ,  1.428577  ,\n",
       "       -1.0932512 ,  0.5283731 ,  2.4119503 , -1.3233187 , -2.4420953 ,\n",
       "       -0.09579887, -2.4189503 ,  4.1984515 ,  3.484439  , -1.290305  ,\n",
       "        0.31543288, -2.0927608 ,  0.20144191,  1.988912  ,  2.336819  ,\n",
       "       -0.86601585,  1.417229  ,  1.3441963 , -1.3668236 , -1.300628  ,\n",
       "       -4.728761  ,  1.0871938 ,  1.5354431 ,  3.6407747 , -0.40277985,\n",
       "        0.9361738 ,  1.827198  , -2.9673207 , -0.8711824 , -2.9258976 ,\n",
       "       -1.7261906 , -0.16787243,  1.2743179 ,  2.957529  , -1.4915544 ,\n",
       "        0.71417665, -3.1319778 , -0.30812234,  0.75862455, -2.7529287 ,\n",
       "       -1.7065699 ,  0.24372588,  1.4996948 , -0.07506054,  1.1389827 ,\n",
       "       -2.683105  ,  2.4295166 , -4.6888328 , -0.36809373, -1.5003333 ,\n",
       "        1.6495142 ,  0.14592567, -2.6984766 ,  1.1445167 ,  1.1334202 ,\n",
       "       -3.2032082 ,  0.26596656,  1.5917411 ,  0.5690189 , -0.8889533 ,\n",
       "        0.08224975,  0.74879396, -1.3539709 ,  1.1966461 , -1.8607512 ,\n",
       "        1.3852565 , -2.0925536 , -1.8071285 , -2.1556401 ,  0.01889514],\n",
       "      dtype=float32)"
      ]
     },
     "execution_count": 12,
     "metadata": {},
     "output_type": "execute_result"
    }
   ],
   "source": [
    "default_model['carro']"
   ]
  },
  {
   "cell_type": "code",
   "execution_count": null,
   "metadata": {},
   "outputs": [],
   "source": []
  }
 ],
 "metadata": {
  "kernelspec": {
   "display_name": "Python 3",
   "language": "python",
   "name": "python3"
  },
  "language_info": {
   "codemirror_mode": {
    "name": "ipython",
    "version": 3
   },
   "file_extension": ".py",
   "mimetype": "text/x-python",
   "name": "python",
   "nbconvert_exporter": "python",
   "pygments_lexer": "ipython3",
   "version": "3.6.5"
  }
 },
 "nbformat": 4,
 "nbformat_minor": 2
}
